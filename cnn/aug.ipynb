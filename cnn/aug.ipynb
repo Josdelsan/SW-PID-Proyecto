{
 "cells": [
  {
   "cell_type": "code",
   "execution_count": 15,
   "metadata": {},
   "outputs": [],
   "source": [
    "import os \n",
    "from PIL import Image\n",
    "import numpy as np\n",
    "from keras.preprocessing.image import ImageDataGenerator\n",
    "import shutil"
   ]
  },
  {
   "cell_type": "code",
   "execution_count": 20,
   "metadata": {},
   "outputs": [],
   "source": [
    "\n",
    "\n",
    "cur_path = os.getcwd()\n",
    "train_path = os.path.join(cur_path, 'Train2')\n",
    "augmented_data_dir = 'augmented_data'\n",
    "\n",
    "classes = len(os.listdir(train_path))\n",
    "\n",
    "for c in os.listdir(train_path):\n",
    "    class_path = os.path.join(train_path, c)\n",
    "    augmented_class_dir = os.path.join(class_path, augmented_data_dir)\n",
    "\n",
    "    # Create the \"augmented_data\" folder inside each class folder\n",
    "    if not os.path.exists(augmented_class_dir):\n",
    "        os.makedirs(augmented_class_dir)\n",
    "    elif os.path.exists(augmented_class_dir):\n",
    "        shutil.rmtree(augmented_class_dir)\n",
    "        os.makedirs(augmented_class_dir)\n",
    "\n",
    "    # Retrieve the list of images in the current class folder\n",
    "    images = os.listdir(class_path)\n",
    "\n",
    "    # Create an instance of ImageDataGenerator with desired augmentation settings\n",
    "    datagen = ImageDataGenerator(\n",
    "        rotation_range=20,\n",
    "        width_shift_range=0.1,\n",
    "        height_shift_range=0.1,\n",
    "        shear_range=0.2,\n",
    "        zoom_range=0.2,\n",
    "        horizontal_flip=True,\n",
    "        fill_mode='nearest',\n",
    "        brightness_range=[0.2,1.0],\n",
    "    )\n",
    "\n",
    "    for img_name in images:\n",
    "        if img_name.startswith('aug'):\n",
    "            continue\n",
    "\n",
    "        img_path = os.path.join(class_path, img_name)\n",
    "\n",
    "        # Load the image and convert it to grayscale\n",
    "        img = Image.open(img_path).convert('L')\n",
    "        img = img.resize((30, 30))\n",
    "        img = np.array(img)\n",
    "\n",
    "        # Reshape the image to (1, height, width, channels)\n",
    "        img = img.reshape((1,) + img.shape + (1,))\n",
    "\n",
    "        # Generate augmented images by applying random transformations\n",
    "        aug_images = datagen.flow(img, batch_size=1, save_to_dir=augmented_class_dir,\n",
    "                                  save_prefix='aug_image', save_format='png')\n",
    "\n",
    "        # Generate a specified number of augmented images per original image\n",
    "        num_augmented_images = 10\n",
    "        for _ in range(num_augmented_images):\n",
    "            aug_img = aug_images.next()"
   ]
  }
 ],
 "metadata": {
  "kernelspec": {
   "display_name": "base",
   "language": "python",
   "name": "python3"
  },
  "language_info": {
   "codemirror_mode": {
    "name": "ipython",
    "version": 3
   },
   "file_extension": ".py",
   "mimetype": "text/x-python",
   "name": "python",
   "nbconvert_exporter": "python",
   "pygments_lexer": "ipython3",
   "version": "3.9.13"
  },
  "orig_nbformat": 4
 },
 "nbformat": 4,
 "nbformat_minor": 2
}
